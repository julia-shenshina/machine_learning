{
 "cells": [
  {
   "cell_type": "markdown",
   "metadata": {},
   "source": [
    "# Demand prediction baseline solution"
   ]
  },
  {
   "cell_type": "markdown",
   "metadata": {},
   "source": [
    "Отчет.\n",
    "1. Постановка задачи: по данным о продажах за 2012-2014 годы предсказать продажи конкретных товаров в 2015 году.\n",
    "2. Итоговое решение: в ходе изучения данных было установлено, что столбцы 'f[i]' и 'f[i+30]' идентичны для каждой строки исходных данных. В связи с этим выбрасываем половину из них.\n",
    "3. Подходы: \n",
    "\n",
    "    1) Использование метрики качества MAE. В связи с тем, что оценка качества производится с помощью $SMAPE = \\frac{200%}{n}\\sum_{n=1}^{N}\\frac{|y - predict|}{|y| + |predict|}$, было принято решение минимизировать MAE. Это дало некоторое преимущество и улучшило результат.\n",
    "    \n",
    "    2) Выбор недель. Тестовые данные относятся только к 3-5 неделям 2015 года. Посколько речь идет о продажах, которые могут зависеть от сезона, возникло предположение, что стоит обучать модель только на той части тренировочной выборки, которая относится к 3-5 неделям. Улучшило результат.\n",
    "    \n",
    "    3) Кодирование item_id. Попытка заменить item_id на средние значения тех или иных фич только ухудшила прогноз. Нормировка и взаимодействие со значениями item_id внутри столбца не принесло никаких результатов.\n",
    "    \n",
    "    4) Изменение параметров модели. Увеличивая n_estimators и их максимальную глубину, получили несколько переобученную модель, дающую при этом хорошие результаты. Хорошо увеличило качество.\n",
    "    \n",
    "    5) Работа со сдвигом. Попытка обучения различных моделей для каждого из сдвигов дала результат несколько хуже, чем приведенная ниже модель.\n",
    "4. Код ниже\n",
    "5. Приоценке качества использовалась функция SMAPE"
   ]
  },
  {
   "cell_type": "code",
   "execution_count": 29,
   "metadata": {
    "collapsed": false
   },
   "outputs": [],
   "source": [
    "import pandas as pd\n",
    "import numpy as np\n",
    "\n",
    "train = pd.read_csv(\"train.tsv\")\n",
    "test = pd.read_csv(\"test.tsv\")\n",
    "sample_submission = pd.read_csv(\"sample_submission.tsv\")"
   ]
  },
  {
   "cell_type": "code",
   "execution_count": 30,
   "metadata": {
    "collapsed": false
   },
   "outputs": [],
   "source": [
    "frac = 0.5 # fraction of learning examples used for model fitting\n",
    "for i in range(31, 61):\n",
    "    st = 'f' + str(i)\n",
    "    train = train.drop([st], axis = 1)\n",
    "    test = test.drop([st], axis = 1)\n",
    "    \n",
    "#sample the train set if your don't want to deel with all examples\n",
    "X = train.sample(frac=frac, random_state=42)\n",
    "X = X[X['week'].isin([3, 4, 5])]\n",
    "y = X['y'].copy()\n",
    "X = X.drop(['Num','y'], axis=1)"
   ]
  },
  {
   "cell_type": "code",
   "execution_count": 42,
   "metadata": {
    "collapsed": false
   },
   "outputs": [],
   "source": [
    "def SMAPE(pred, y):\n",
    "        return float(200) / len(y) * sum(abs(pred - y) / (abs(y) + abs(pred)))"
   ]
  },
  {
   "cell_type": "code",
   "execution_count": 43,
   "metadata": {
    "collapsed": false
   },
   "outputs": [],
   "source": [
    "from sklearn import cross_validation\n",
    "\n",
    "trainX, testX, trainY, testY = cross_validation.train_test_split(X, y, test_size=0.20, random_state=1)"
   ]
  },
  {
   "cell_type": "code",
   "execution_count": 44,
   "metadata": {
    "collapsed": false
   },
   "outputs": [
    {
     "data": {
      "text/plain": [
       "XGBRegressor(base_score=0.5, colsample_bylevel=1, colsample_bytree=1, gamma=0,\n",
       "       learning_rate=0.05, max_delta_step=0, max_depth=20,\n",
       "       min_child_weight=1, missing=None, n_estimators=800, nthread=-1,\n",
       "       objective='reg:linear', reg_alpha=0, reg_lambda=1,\n",
       "       scale_pos_weight=1, seed=0, silent=True, subsample=1)"
      ]
     },
     "execution_count": 44,
     "metadata": {},
     "output_type": "execute_result"
    }
   ],
   "source": [
    "import xgboost as xgb\n",
    "\n",
    "model = xgb.XGBRegressor(n_estimators=800, max_depth=20, learning_rate=0.05)\n",
    "model.fit(trainX, trainY, eval_metric=\"mae\")"
   ]
  },
  {
   "cell_type": "code",
   "execution_count": 45,
   "metadata": {
    "collapsed": false
   },
   "outputs": [],
   "source": [
    "preds = model.predict(testX)"
   ]
  },
  {
   "cell_type": "code",
   "execution_count": 46,
   "metadata": {
    "collapsed": false
   },
   "outputs": [
    {
     "data": {
      "text/plain": [
       "22.651751127724911"
      ]
     },
     "execution_count": 46,
     "metadata": {},
     "output_type": "execute_result"
    }
   ],
   "source": [
    "SMAPE(preds, np.array(testY))"
   ]
  },
  {
   "cell_type": "code",
   "execution_count": 36,
   "metadata": {
    "collapsed": false
   },
   "outputs": [],
   "source": [
    "import xgboost as xgb\n",
    "\n",
    "model = xgb.XGBRegressor(n_estimators=800, max_depth=20, learning_rate=0.05)\n",
    "model.fit(X, y, eval_metric=\"mae\")\n",
    "preds = model.predict(test.drop(['Num'], axis=1))"
   ]
  },
  {
   "cell_type": "code",
   "execution_count": 37,
   "metadata": {
    "collapsed": true
   },
   "outputs": [],
   "source": [
    "sample_submission['y'] = preds"
   ]
  },
  {
   "cell_type": "code",
   "execution_count": 38,
   "metadata": {
    "collapsed": false
   },
   "outputs": [
    {
     "data": {
      "text/html": [
       "<div>\n",
       "<table border=\"1\" class=\"dataframe\">\n",
       "  <thead>\n",
       "    <tr style=\"text-align: right;\">\n",
       "      <th></th>\n",
       "      <th>Num</th>\n",
       "      <th>y</th>\n",
       "    </tr>\n",
       "  </thead>\n",
       "  <tbody>\n",
       "    <tr>\n",
       "      <th>0</th>\n",
       "      <td>348622</td>\n",
       "      <td>1771.993164</td>\n",
       "    </tr>\n",
       "    <tr>\n",
       "      <th>1</th>\n",
       "      <td>348623</td>\n",
       "      <td>24432.169922</td>\n",
       "    </tr>\n",
       "    <tr>\n",
       "      <th>2</th>\n",
       "      <td>348624</td>\n",
       "      <td>338828.687500</td>\n",
       "    </tr>\n",
       "    <tr>\n",
       "      <th>3</th>\n",
       "      <td>348625</td>\n",
       "      <td>31894.257812</td>\n",
       "    </tr>\n",
       "    <tr>\n",
       "      <th>4</th>\n",
       "      <td>348626</td>\n",
       "      <td>292.033722</td>\n",
       "    </tr>\n",
       "  </tbody>\n",
       "</table>\n",
       "</div>"
      ],
      "text/plain": [
       "      Num              y\n",
       "0  348622    1771.993164\n",
       "1  348623   24432.169922\n",
       "2  348624  338828.687500\n",
       "3  348625   31894.257812\n",
       "4  348626     292.033722"
      ]
     },
     "execution_count": 38,
     "metadata": {},
     "output_type": "execute_result"
    }
   ],
   "source": [
    "sample_submission.head(5)"
   ]
  },
  {
   "cell_type": "code",
   "execution_count": 39,
   "metadata": {
    "collapsed": false
   },
   "outputs": [
    {
     "name": "stdout",
     "output_type": "stream",
     "text": [
      "Empty DataFrame\n",
      "Columns: [Num, y]\n",
      "Index: []\n"
     ]
    }
   ],
   "source": [
    "# In GBM you can get some negative predictions:\n",
    "print sample_submission[sample_submission['y'] < 0]"
   ]
  },
  {
   "cell_type": "code",
   "execution_count": 40,
   "metadata": {
    "collapsed": true
   },
   "outputs": [],
   "source": [
    "sample_submission['y'] = sample_submission['y'].map(lambda x: x if x > 0 else 0.0)"
   ]
  },
  {
   "cell_type": "code",
   "execution_count": 41,
   "metadata": {
    "collapsed": true
   },
   "outputs": [],
   "source": [
    "sample_submission.to_csv(\"baseline_submission.tsv\", sep=',', index=False)"
   ]
  },
  {
   "cell_type": "code",
   "execution_count": null,
   "metadata": {
    "collapsed": true
   },
   "outputs": [],
   "source": []
  }
 ],
 "metadata": {
  "kernelspec": {
   "display_name": "Python 2",
   "language": "python",
   "name": "python2"
  },
  "language_info": {
   "codemirror_mode": {
    "name": "ipython",
    "version": 2
   },
   "file_extension": ".py",
   "mimetype": "text/x-python",
   "name": "python",
   "nbconvert_exporter": "python",
   "pygments_lexer": "ipython2",
   "version": "2.7.12"
  }
 },
 "nbformat": 4,
 "nbformat_minor": 0
}
