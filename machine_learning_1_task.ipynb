{
 "cells": [
  {
   "cell_type": "markdown",
   "metadata": {},
   "source": [
    "# Машинное обучение. Задание 1. "
   ]
  },
  {
   "cell_type": "markdown",
   "metadata": {},
   "source": [
    "### Задание по numpy:\n",
    "##### 1. Напишите свой аналог np.linspace с использованием цикла и с использованием list comprehension. Сравните все три варианта по производительности."
   ]
  },
  {
   "cell_type": "code",
   "execution_count": 19,
   "metadata": {
    "collapsed": false
   },
   "outputs": [
    {
     "name": "stdout",
     "output_type": "stream",
     "text": [
      "numpy.linspace:\n",
      "<type 'numpy.ndarray'>\n",
      "10000 loops, best of 3: 42.5 µs per loop\n",
      "\n",
      "\n",
      "\n",
      "\n",
      "cycle_linspace:\n",
      "<type 'numpy.ndarray'>\n",
      "1000 loops, best of 3: 1.23 ms per loop\n",
      "\n",
      "\n",
      "\n",
      "\n",
      "list_comprehension_linspace:\n",
      "<type 'list'>\n",
      "1000 loops, best of 3: 845 µs per loop\n"
     ]
    }
   ],
   "source": [
    "import numpy as np\n",
    "\n",
    "left_border = -1\n",
    "right_border = 3\n",
    "N = 10000\n",
    "\n",
    "def cycle_linspace(left_border, right_border, N):\n",
    "    x = np.ndarray(N)\n",
    "    step = float(right_border - left_border) / (N - 1)\n",
    "    for i in range(0, N):\n",
    "        x[i] = left_border + step * i\n",
    "    return x\n",
    "\n",
    "def list_comprehension_linspace(left_border, right_border, N):\n",
    "    step = float(right_border - left_border) / (N - 1)\n",
    "    x = [left_border + step * n for n in range(0, N)]\n",
    "    return x\n",
    "\n",
    "x = np.linspace(left_border, right_border, N)\n",
    "y = cycle_linspace(left_border, right_border, N)\n",
    "z = list_comprehension_linspace(left_border, right_border, N)\n",
    "\n",
    "print 'numpy.linspace:'\n",
    "print type(x)\n",
    "%timeit np.linspace(left_border, right_border, N)\n",
    "\n",
    "print '\\n\\n\\n'\n",
    "print 'cycle_linspace:'\n",
    "print type(y)\n",
    "%timeit cycle_linspace(left_border, right_border, N)\n",
    "\n",
    "print '\\n\\n\\n'\n",
    "print 'list_comprehension_linspace:'\n",
    "print type(z)\n",
    "%timeit list_comprehension_linspace(left_border, right_border, N)"
   ]
  },
  {
   "cell_type": "markdown",
   "metadata": {},
   "source": [
    "#### 2. Сравните по производительности основные операции с массивами (array) numpy и с list."
   ]
  },
  {
   "cell_type": "code",
   "execution_count": 81,
   "metadata": {
    "collapsed": false
   },
   "outputs": [],
   "source": [
    "a = [0.0]\n",
    "for i in range(0, N):\n",
    "    a.append(np.random.rand())\n",
    "b = np.random.randn(N)"
   ]
  },
  {
   "cell_type": "code",
   "execution_count": 82,
   "metadata": {
    "collapsed": false
   },
   "outputs": [
    {
     "name": "stdout",
     "output_type": "stream",
     "text": [
      "append:\n",
      "\n",
      " list: \n",
      "10000000 loops, best of 3: 54.2 ns per loop\n",
      "\n",
      " array: \n",
      "The slowest run took 11.13 times longer than the fastest. This could mean that an intermediate result is being cached.\n",
      "100000 loops, best of 3: 5.93 µs per loop\n"
     ]
    }
   ],
   "source": [
    "print 'append:'\n",
    "print '\\n list: '\n",
    "%timeit a.append(1)\n",
    "print '\\n array: '\n",
    "%timeit np.append(b, 1)"
   ]
  },
  {
   "cell_type": "code",
   "execution_count": 22,
   "metadata": {
    "collapsed": false
   },
   "outputs": [
    {
     "name": "stdout",
     "output_type": "stream",
     "text": [
      "insert:\n",
      "\n",
      " list: \n",
      "10 loops, best of 3: 52.7 ms per loop\n",
      "\n",
      " array: \n",
      "The slowest run took 8.74 times longer than the fastest. This could mean that an intermediate result is being cached.\n",
      "100000 loops, best of 3: 10.2 µs per loop\n"
     ]
    }
   ],
   "source": [
    "print 'insert:'\n",
    "print '\\n list: '\n",
    "%timeit a.insert(1, 1)\n",
    "print '\\n array: '\n",
    "%timeit np.insert(b, 1, 1)"
   ]
  },
  {
   "cell_type": "code",
   "execution_count": 23,
   "metadata": {
    "collapsed": false
   },
   "outputs": [
    {
     "name": "stdout",
     "output_type": "stream",
     "text": [
      "sort:\n",
      "\n",
      " list: \n",
      "1 loop, best of 3: 355 ms per loop\n",
      "\n",
      " array: \n",
      "1000 loops, best of 3: 471 µs per loop\n"
     ]
    }
   ],
   "source": [
    "print 'sort:'\n",
    "print '\\n list: '\n",
    "%timeit a.sort()\n",
    "print '\\n array: '\n",
    "%timeit np.sort(b)"
   ]
  },
  {
   "cell_type": "code",
   "execution_count": 24,
   "metadata": {
    "collapsed": false
   },
   "outputs": [
    {
     "name": "stdout",
     "output_type": "stream",
     "text": [
      "remove:\n",
      "\n",
      " list: \n",
      "10 loops, best of 3: 57 ms per loop\n",
      "\n",
      " array: \n",
      "The slowest run took 6.77 times longer than the fastest. This could mean that an intermediate result is being cached.\n",
      "10000 loops, best of 3: 27.1 µs per loop\n"
     ]
    }
   ],
   "source": [
    "print 'remove:'\n",
    "print '\\n list: '\n",
    "%timeit a.remove(a[0])\n",
    "print '\\n array: '\n",
    "%timeit np.delete(b, b[0])"
   ]
  },
  {
   "cell_type": "markdown",
   "metadata": {},
   "source": [
    "#### Видно, что производительность большинства из рассмотренных функций (икслючение - append) выше на numpy.array."
   ]
  },
  {
   "cell_type": "markdown",
   "metadata": {},
   "source": [
    "### Задание по scipy\n",
    "#### Попробуйте поменять метод оптимизации в примере решения оптимизационной задачи выше, и подобрать метод с наименьшим количеством вычислений функции. Начальное приближение оставьте тем же."
   ]
  },
  {
   "cell_type": "code",
   "execution_count": 25,
   "metadata": {
    "collapsed": true
   },
   "outputs": [],
   "source": [
    "from scipy import optimize"
   ]
  },
  {
   "cell_type": "code",
   "execution_count": 26,
   "metadata": {
    "collapsed": true
   },
   "outputs": [],
   "source": [
    "def f(x):\n",
    "    return (x[0] - 3.2) ** 2 + (x[1] - 0.1) ** 2 + 3"
   ]
  },
  {
   "cell_type": "code",
   "execution_count": 10,
   "metadata": {
    "collapsed": false
   },
   "outputs": [
    {
     "name": "stdout",
     "output_type": "stream",
     "text": [
      "     fun: 3.0000000121604393\n",
      "   maxcv: 0.0\n",
      " message: 'Optimization terminated successfully.'\n",
      "    nfev: 47\n",
      "  status: 1\n",
      " success: True\n",
      "       x: array([ 3.20010035,  0.09995428])\n"
     ]
    }
   ],
   "source": [
    "x_min = optimize.minimize(f, [5, 5], method='COBYLA') #Constrained Optimization BY Linear Approximation\n",
    "print x_min"
   ]
  },
  {
   "cell_type": "code",
   "execution_count": 11,
   "metadata": {
    "collapsed": false
   },
   "outputs": [
    {
     "name": "stdout",
     "output_type": "stream",
     "text": [
      "   direc: array([[ 1.,  0.],\n",
      "       [ 0.,  1.]])\n",
      "     fun: 3.0\n",
      " message: 'Optimization terminated successfully.'\n",
      "    nfev: 92\n",
      "     nit: 2\n",
      "  status: 0\n",
      " success: True\n",
      "       x: array([ 3.19999999,  0.10000001])\n"
     ]
    }
   ],
   "source": [
    "x_min = optimize.minimize(f, [5, 5], method='Powell') \n",
    "#performs sequential one-dimensional minimizations along each vector of the directions set \n",
    "print x_min"
   ]
  },
  {
   "cell_type": "code",
   "execution_count": 12,
   "metadata": {
    "collapsed": false
   },
   "outputs": [
    {
     "name": "stdout",
     "output_type": "stream",
     "text": [
      " final_simplex: (array([[ 3.20001992,  0.09998117],\n",
      "       [ 3.19995515,  0.0999887 ],\n",
      "       [ 3.19996773,  0.09995848]]), array([ 3.,  3.,  3.]))\n",
      "           fun: 3.0000000007515375\n",
      "       message: 'Optimization terminated successfully.'\n",
      "          nfev: 87\n",
      "           nit: 45\n",
      "        status: 0\n",
      "       success: True\n",
      "             x: array([ 3.20001992,  0.09998117])\n"
     ]
    }
   ],
   "source": [
    "x_min = optimize.minimize(f, [5, 5], method='Nelder-Mead') #Simplex algorithm \n",
    "print x_min"
   ]
  },
  {
   "cell_type": "markdown",
   "metadata": {},
   "source": [
    "#### Среди рассмотренных методов наилучшим в смысле числа вычислений значения функции оказался метод линейного приближения."
   ]
  },
  {
   "cell_type": "markdown",
   "metadata": {},
   "source": [
    "### Задание по Matplotlib"
   ]
  },
  {
   "cell_type": "markdown",
   "metadata": {},
   "source": [
    "#### 1.Добавьте подписи к осям и легенду к примеру выше (см. документацию)"
   ]
  },
  {
   "cell_type": "code",
   "execution_count": 13,
   "metadata": {
    "collapsed": true
   },
   "outputs": [],
   "source": [
    "%matplotlib inline"
   ]
  },
  {
   "cell_type": "code",
   "execution_count": 73,
   "metadata": {
    "collapsed": false
   },
   "outputs": [
    {
     "data": {
      "image/png": "[encoded data removed]",
      "text/plain": [
       "<matplotlib.figure.Figure at 0x7f67b1c0bc90>"
      ]
     },
     "metadata": {},
     "output_type": "display_data"
    }
   ],
   "source": [
    "from matplotlib import pylab as plt\n",
    "\n",
    "plt.plot([1, 2, 3, 4], [1, 4, 9, 16], label = 'first', )\n",
    "plt.xlabel('x')\n",
    "plt.ylabel('y')\n",
    "plt.legend(bbox_to_anchor=(1.05, 1), loc = 2)\n",
    "plt.grid(True)\n",
    "plt.show()"
   ]
  },
  {
   "cell_type": "markdown",
   "metadata": {},
   "source": [
    "#### 2. Постройте график с 5 разными элементарными функциями и сделайте легенду к графику в TeXe"
   ]
  },
  {
   "cell_type": "code",
   "execution_count": 83,
   "metadata": {
    "collapsed": false
   },
   "outputs": [
    {
     "data": {
      "image/png": "[encoded data removed]",
      "text/plain": [
       "<matplotlib.figure.Figure at 0x7f67b35f2e90>"
      ]
     },
     "metadata": {},
     "output_type": "display_data"
    }
   ],
   "source": [
    "from math import sin\n",
    "x = np.linspace(0, 1, N)\n",
    "y = [sin(x[i]) for i in range(0, N)]\n",
    "\n",
    "plt.plot(x, x**2, label = \"$x^2$\")\n",
    "plt.plot(x, x**0.5, label = \"$\\sqrt{x}$\")\n",
    "plt.plot(x, 2**x, label = \"$2^x$\")\n",
    "plt.plot(x, x, label = \"$x$\")\n",
    "plt.plot(x, y, label = \"$sin(x)$\")\n",
    "\n",
    "plt.legend(bbox_to_anchor=(1.05, 1), loc = 2)\n",
    "plt.xlabel(\"x\")\n",
    "plt.ylabel(\"y\")\n",
    "plt.grid(True)\n",
    "fig = plt.gcf()\n",
    "plt.show()\n",
    "fig.savefig('3.png', dpi=100) #сохранили картинку"
   ]
  },
  {
   "cell_type": "code",
   "execution_count": null,
   "metadata": {
    "collapsed": false
   },
   "outputs": [],
   "source": []
  },
  {
   "cell_type": "code",
   "execution_count": null,
   "metadata": {
    "collapsed": true
   },
   "outputs": [],
   "source": []
  }
 ],
 "metadata": {
  "kernelspec": {
   "display_name": "Python 2",
   "language": "python",
   "name": "python2"
  },
  "language_info": {
   "codemirror_mode": {
    "name": "ipython",
    "version": 2
   },
   "file_extension": ".py",
   "mimetype": "text/x-python",
   "name": "python",
   "nbconvert_exporter": "python",
   "pygments_lexer": "ipython2",
   "version": "2.7.12"
  }
 },
 "nbformat": 4,
 "nbformat_minor": 1
}
